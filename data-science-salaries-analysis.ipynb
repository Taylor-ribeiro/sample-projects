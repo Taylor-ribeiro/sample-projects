{
 "cells": [
  {
   "cell_type": "markdown",
   "id": "800e2fdc",
   "metadata": {
    "papermill": {
     "duration": 0.004062,
     "end_time": "2025-01-19T17:33:53.075575",
     "exception": false,
     "start_time": "2025-01-19T17:33:53.071513",
     "status": "completed"
    },
    "tags": []
   },
   "source": [
    "# Exploratory Data Analysis: Data Science Salaries\n",
    "\n",
    "## Introduction\n",
    "\n",
    "For this analysis, we are looking at different salaries of various employees in the field of Data Science. This dataset is already cleaned and ready for analysis, so we will focus mostly on EDA. \n",
    "\n",
    "There are many features in the dataset, like experience level, title, and employment type, as well as details about the company they work for, like country of company and remote ratio.\n",
    "\n",
    "### Audience\n",
    "\n",
    "Lets assume that our stakeholder for this analysis is an HR colleague who is trying to understand what factors impact salaries for Data Science roles. \n",
    "\n",
    "### Potential Business Questions\n",
    "\n",
    "1. How do salaries vary by job title (e.g., data scientist, ML engineer, data analyst)?\n",
    "2. What is the distribution of salaries across different experience levels?\n",
    "3. How have data science salaries changed over time?\n",
    "4. What is the correlation between remote ratio and salary?\n",
    "5. How do salaries differ by location (e.g., employee country, company country)?"
   ]
  },
  {
   "cell_type": "markdown",
   "id": "2afe195f",
   "metadata": {
    "papermill": {
     "duration": 0.002825,
     "end_time": "2025-01-19T17:33:53.081765",
     "exception": false,
     "start_time": "2025-01-19T17:33:53.078940",
     "status": "completed"
    },
    "tags": []
   },
   "source": [
    "### Step 1: Load, clean/prepare the Data for Analysis"
   ]
  },
  {
   "cell_type": "code",
   "execution_count": 1,
   "id": "60d1c03b",
   "metadata": {
    "_cell_guid": "b1076dfc-b9ad-4769-8c92-a6c4dae69d19",
    "_uuid": "8f2839f25d086af736a60e9eeb907d3b93b6e0e5",
    "execution": {
     "iopub.execute_input": "2025-01-19T17:33:53.089068Z",
     "iopub.status.busy": "2025-01-19T17:33:53.088673Z",
     "iopub.status.idle": "2025-01-19T17:33:55.669056Z",
     "shell.execute_reply": "2025-01-19T17:33:55.668003Z"
    },
    "papermill": {
     "duration": 2.585846,
     "end_time": "2025-01-19T17:33:55.670576",
     "exception": false,
     "start_time": "2025-01-19T17:33:53.084730",
     "status": "completed"
    },
    "tags": []
   },
   "outputs": [
    {
     "name": "stdout",
     "output_type": "stream",
     "text": [
      "Setup Complete\n"
     ]
    },
    {
     "data": {
      "text/html": [
       "<div>\n",
       "<style scoped>\n",
       "    .dataframe tbody tr th:only-of-type {\n",
       "        vertical-align: middle;\n",
       "    }\n",
       "\n",
       "    .dataframe tbody tr th {\n",
       "        vertical-align: top;\n",
       "    }\n",
       "\n",
       "    .dataframe thead th {\n",
       "        text-align: right;\n",
       "    }\n",
       "</style>\n",
       "<table border=\"1\" class=\"dataframe\">\n",
       "  <thead>\n",
       "    <tr style=\"text-align: right;\">\n",
       "      <th></th>\n",
       "      <th>work_year</th>\n",
       "      <th>experience_level</th>\n",
       "      <th>employment_type</th>\n",
       "      <th>job_title</th>\n",
       "      <th>salary</th>\n",
       "      <th>salary_currency</th>\n",
       "      <th>salary_in_usd</th>\n",
       "      <th>employee_residence</th>\n",
       "      <th>remote_ratio</th>\n",
       "      <th>company_location</th>\n",
       "      <th>company_size</th>\n",
       "    </tr>\n",
       "  </thead>\n",
       "  <tbody>\n",
       "    <tr>\n",
       "      <th>0</th>\n",
       "      <td>2023</td>\n",
       "      <td>SE</td>\n",
       "      <td>FT</td>\n",
       "      <td>Principal Data Scientist</td>\n",
       "      <td>80000</td>\n",
       "      <td>EUR</td>\n",
       "      <td>85847</td>\n",
       "      <td>ES</td>\n",
       "      <td>100</td>\n",
       "      <td>ES</td>\n",
       "      <td>L</td>\n",
       "    </tr>\n",
       "    <tr>\n",
       "      <th>1</th>\n",
       "      <td>2023</td>\n",
       "      <td>MI</td>\n",
       "      <td>CT</td>\n",
       "      <td>ML Engineer</td>\n",
       "      <td>30000</td>\n",
       "      <td>USD</td>\n",
       "      <td>30000</td>\n",
       "      <td>US</td>\n",
       "      <td>100</td>\n",
       "      <td>US</td>\n",
       "      <td>S</td>\n",
       "    </tr>\n",
       "    <tr>\n",
       "      <th>2</th>\n",
       "      <td>2023</td>\n",
       "      <td>MI</td>\n",
       "      <td>CT</td>\n",
       "      <td>ML Engineer</td>\n",
       "      <td>25500</td>\n",
       "      <td>USD</td>\n",
       "      <td>25500</td>\n",
       "      <td>US</td>\n",
       "      <td>100</td>\n",
       "      <td>US</td>\n",
       "      <td>S</td>\n",
       "    </tr>\n",
       "    <tr>\n",
       "      <th>3</th>\n",
       "      <td>2023</td>\n",
       "      <td>SE</td>\n",
       "      <td>FT</td>\n",
       "      <td>Data Scientist</td>\n",
       "      <td>175000</td>\n",
       "      <td>USD</td>\n",
       "      <td>175000</td>\n",
       "      <td>CA</td>\n",
       "      <td>100</td>\n",
       "      <td>CA</td>\n",
       "      <td>M</td>\n",
       "    </tr>\n",
       "    <tr>\n",
       "      <th>4</th>\n",
       "      <td>2023</td>\n",
       "      <td>SE</td>\n",
       "      <td>FT</td>\n",
       "      <td>Data Scientist</td>\n",
       "      <td>120000</td>\n",
       "      <td>USD</td>\n",
       "      <td>120000</td>\n",
       "      <td>CA</td>\n",
       "      <td>100</td>\n",
       "      <td>CA</td>\n",
       "      <td>M</td>\n",
       "    </tr>\n",
       "  </tbody>\n",
       "</table>\n",
       "</div>"
      ],
      "text/plain": [
       "   work_year experience_level employment_type                 job_title  \\\n",
       "0       2023               SE              FT  Principal Data Scientist   \n",
       "1       2023               MI              CT               ML Engineer   \n",
       "2       2023               MI              CT               ML Engineer   \n",
       "3       2023               SE              FT            Data Scientist   \n",
       "4       2023               SE              FT            Data Scientist   \n",
       "\n",
       "   salary salary_currency  salary_in_usd employee_residence  remote_ratio  \\\n",
       "0   80000             EUR          85847                 ES           100   \n",
       "1   30000             USD          30000                 US           100   \n",
       "2   25500             USD          25500                 US           100   \n",
       "3  175000             USD         175000                 CA           100   \n",
       "4  120000             USD         120000                 CA           100   \n",
       "\n",
       "  company_location company_size  \n",
       "0               ES            L  \n",
       "1               US            S  \n",
       "2               US            S  \n",
       "3               CA            M  \n",
       "4               CA            M  "
      ]
     },
     "execution_count": 1,
     "metadata": {},
     "output_type": "execute_result"
    }
   ],
   "source": [
    "import numpy as np\n",
    "import pandas as pd\n",
    "import os\n",
    "pd.plotting.register_matplotlib_converters()\n",
    "import matplotlib.pyplot as plt\n",
    "%matplotlib inline\n",
    "import seaborn as sns\n",
    "print(\"Setup Complete\")\n",
    "\n",
    "data_filepath = \"../input/data-science-salaries-2023/ds_salaries.csv\"\n",
    "\n",
    "salary_data = pd.read_csv(data_filepath)\n",
    "\n",
    "salary_data.head()"
   ]
  },
  {
   "cell_type": "code",
   "execution_count": 2,
   "id": "71a0d28e",
   "metadata": {
    "execution": {
     "iopub.execute_input": "2025-01-19T17:33:55.678590Z",
     "iopub.status.busy": "2025-01-19T17:33:55.678270Z",
     "iopub.status.idle": "2025-01-19T17:33:55.689049Z",
     "shell.execute_reply": "2025-01-19T17:33:55.688004Z"
    },
    "papermill": {
     "duration": 0.016555,
     "end_time": "2025-01-19T17:33:55.690695",
     "exception": false,
     "start_time": "2025-01-19T17:33:55.674140",
     "status": "completed"
    },
    "tags": []
   },
   "outputs": [
    {
     "data": {
      "text/plain": [
       "work_year             0\n",
       "experience_level      0\n",
       "employment_type       0\n",
       "job_title             0\n",
       "salary                0\n",
       "salary_currency       0\n",
       "salary_in_usd         0\n",
       "employee_residence    0\n",
       "remote_ratio          0\n",
       "company_location      0\n",
       "company_size          0\n",
       "dtype: int64"
      ]
     },
     "execution_count": 2,
     "metadata": {},
     "output_type": "execute_result"
    }
   ],
   "source": [
    "#Check for missing values\n",
    "\n",
    "salary_data.isnull().sum()\n"
   ]
  },
  {
   "cell_type": "markdown",
   "id": "8f8a612c",
   "metadata": {
    "papermill": {
     "duration": 0.003252,
     "end_time": "2025-01-19T17:33:55.697645",
     "exception": false,
     "start_time": "2025-01-19T17:33:55.694393",
     "status": "completed"
    },
    "tags": []
   },
   "source": [
    "Before getting into the analysis, there are some **categorization** that we need to help us analyze the data. The experience level that was provided in the dataset should be expanded, for ease of interpretation. The job titles should also be categorized into the top / well-known titles, we don't really care about the exact title (i.e. \"Principal Data Scientist\", since the level will be taken from the experience category (i.e. Senior)."
   ]
  },
  {
   "cell_type": "code",
   "execution_count": 3,
   "id": "bf1f86d6",
   "metadata": {
    "execution": {
     "iopub.execute_input": "2025-01-19T17:33:55.705898Z",
     "iopub.status.busy": "2025-01-19T17:33:55.705496Z",
     "iopub.status.idle": "2025-01-19T17:33:55.734986Z",
     "shell.execute_reply": "2025-01-19T17:33:55.733943Z"
    },
    "papermill": {
     "duration": 0.035689,
     "end_time": "2025-01-19T17:33:55.736790",
     "exception": false,
     "start_time": "2025-01-19T17:33:55.701101",
     "status": "completed"
    },
    "tags": []
   },
   "outputs": [
    {
     "data": {
      "text/html": [
       "<div>\n",
       "<style scoped>\n",
       "    .dataframe tbody tr th:only-of-type {\n",
       "        vertical-align: middle;\n",
       "    }\n",
       "\n",
       "    .dataframe tbody tr th {\n",
       "        vertical-align: top;\n",
       "    }\n",
       "\n",
       "    .dataframe thead th {\n",
       "        text-align: right;\n",
       "    }\n",
       "</style>\n",
       "<table border=\"1\" class=\"dataframe\">\n",
       "  <thead>\n",
       "    <tr style=\"text-align: right;\">\n",
       "      <th></th>\n",
       "      <th>work_year</th>\n",
       "      <th>experience_level</th>\n",
       "      <th>employment_type</th>\n",
       "      <th>job_title</th>\n",
       "      <th>salary</th>\n",
       "      <th>salary_currency</th>\n",
       "      <th>salary_in_usd</th>\n",
       "      <th>employee_residence</th>\n",
       "      <th>remote_ratio</th>\n",
       "      <th>company_location</th>\n",
       "      <th>company_size</th>\n",
       "      <th>experience_category</th>\n",
       "      <th>job_category</th>\n",
       "    </tr>\n",
       "  </thead>\n",
       "  <tbody>\n",
       "    <tr>\n",
       "      <th>0</th>\n",
       "      <td>2023</td>\n",
       "      <td>SE</td>\n",
       "      <td>FT</td>\n",
       "      <td>Principal Data Scientist</td>\n",
       "      <td>80000</td>\n",
       "      <td>EUR</td>\n",
       "      <td>85847</td>\n",
       "      <td>ES</td>\n",
       "      <td>100</td>\n",
       "      <td>ES</td>\n",
       "      <td>L</td>\n",
       "      <td>Senior</td>\n",
       "      <td>Data Scientist</td>\n",
       "    </tr>\n",
       "    <tr>\n",
       "      <th>1</th>\n",
       "      <td>2023</td>\n",
       "      <td>MI</td>\n",
       "      <td>CT</td>\n",
       "      <td>ML Engineer</td>\n",
       "      <td>30000</td>\n",
       "      <td>USD</td>\n",
       "      <td>30000</td>\n",
       "      <td>US</td>\n",
       "      <td>100</td>\n",
       "      <td>US</td>\n",
       "      <td>S</td>\n",
       "      <td>Mid-Level</td>\n",
       "      <td>AI/ML Engineer</td>\n",
       "    </tr>\n",
       "    <tr>\n",
       "      <th>2</th>\n",
       "      <td>2023</td>\n",
       "      <td>MI</td>\n",
       "      <td>CT</td>\n",
       "      <td>ML Engineer</td>\n",
       "      <td>25500</td>\n",
       "      <td>USD</td>\n",
       "      <td>25500</td>\n",
       "      <td>US</td>\n",
       "      <td>100</td>\n",
       "      <td>US</td>\n",
       "      <td>S</td>\n",
       "      <td>Mid-Level</td>\n",
       "      <td>AI/ML Engineer</td>\n",
       "    </tr>\n",
       "    <tr>\n",
       "      <th>3</th>\n",
       "      <td>2023</td>\n",
       "      <td>SE</td>\n",
       "      <td>FT</td>\n",
       "      <td>Data Scientist</td>\n",
       "      <td>175000</td>\n",
       "      <td>USD</td>\n",
       "      <td>175000</td>\n",
       "      <td>CA</td>\n",
       "      <td>100</td>\n",
       "      <td>CA</td>\n",
       "      <td>M</td>\n",
       "      <td>Senior</td>\n",
       "      <td>Data Scientist</td>\n",
       "    </tr>\n",
       "    <tr>\n",
       "      <th>4</th>\n",
       "      <td>2023</td>\n",
       "      <td>SE</td>\n",
       "      <td>FT</td>\n",
       "      <td>Data Scientist</td>\n",
       "      <td>120000</td>\n",
       "      <td>USD</td>\n",
       "      <td>120000</td>\n",
       "      <td>CA</td>\n",
       "      <td>100</td>\n",
       "      <td>CA</td>\n",
       "      <td>M</td>\n",
       "      <td>Senior</td>\n",
       "      <td>Data Scientist</td>\n",
       "    </tr>\n",
       "  </tbody>\n",
       "</table>\n",
       "</div>"
      ],
      "text/plain": [
       "   work_year experience_level employment_type                 job_title  \\\n",
       "0       2023               SE              FT  Principal Data Scientist   \n",
       "1       2023               MI              CT               ML Engineer   \n",
       "2       2023               MI              CT               ML Engineer   \n",
       "3       2023               SE              FT            Data Scientist   \n",
       "4       2023               SE              FT            Data Scientist   \n",
       "\n",
       "   salary salary_currency  salary_in_usd employee_residence  remote_ratio  \\\n",
       "0   80000             EUR          85847                 ES           100   \n",
       "1   30000             USD          30000                 US           100   \n",
       "2   25500             USD          25500                 US           100   \n",
       "3  175000             USD         175000                 CA           100   \n",
       "4  120000             USD         120000                 CA           100   \n",
       "\n",
       "  company_location company_size experience_category    job_category  \n",
       "0               ES            L              Senior  Data Scientist  \n",
       "1               US            S           Mid-Level  AI/ML Engineer  \n",
       "2               US            S           Mid-Level  AI/ML Engineer  \n",
       "3               CA            M              Senior  Data Scientist  \n",
       "4               CA            M              Senior  Data Scientist  "
      ]
     },
     "execution_count": 3,
     "metadata": {},
     "output_type": "execute_result"
    }
   ],
   "source": [
    "# Define the order of experience levels\n",
    "def categorize_experience(exp):\n",
    "    exp = exp.lower() if pd.notna(exp) else \"\"\n",
    "    if \"en\" in exp:\n",
    "        return \"Entry-Level\"\n",
    "    elif \"mi\" in exp:\n",
    "        return \"Mid-Level\"\n",
    "    elif \"se\" in exp:\n",
    "        return \"Senior\"\n",
    "    elif \"ex\" in exp:\n",
    "        return \"Executive\"\n",
    "    else:\n",
    "        return \"Other\"\n",
    "\n",
    "salary_data['experience_category'] = salary_data['experience_level'].apply(categorize_experience)\n",
    "\n",
    "experience_order = [\"Entry-Level\", \"Mid-Level\", \"Senior\", \"Executive\"]\n",
    "\n",
    "salary_data['experience_category'] = pd.Categorical(salary_data['experience_category'], categories=experience_order, ordered=True)\n",
    "\n",
    "# Group job titles into most common categories\n",
    "\n",
    "def categorize_job(title):\n",
    "    title = title.lower() if pd.notna(title) else \"\"\n",
    "    if \"data scientist\" in title:\n",
    "        return \"Data Scientist\"\n",
    "    elif \"data engineer\" in title:\n",
    "        return \"Data Engineer\"\n",
    "    elif \"data analyst\" in title:\n",
    "        return \"Data Analyst\"\n",
    "    elif \"AI Engineer\" or \"ML Engineer\" in title:\n",
    "        return \"AI/ML Engineer\"\n",
    "    else:\n",
    "        return \"Other\"\n",
    "\n",
    "salary_data['job_category'] = salary_data['job_title'].apply(categorize_job)\n",
    "\n",
    "salary_data.head()\n"
   ]
  },
  {
   "cell_type": "markdown",
   "id": "445bca92",
   "metadata": {
    "papermill": {
     "duration": 0.003471,
     "end_time": "2025-01-19T17:33:55.744140",
     "exception": false,
     "start_time": "2025-01-19T17:33:55.740669",
     "status": "completed"
    },
    "tags": []
   },
   "source": [
    "### Step 2: Visualize the data and answer our business questions\n"
   ]
  },
  {
   "cell_type": "markdown",
   "id": "80c3d7e9",
   "metadata": {
    "papermill": {
     "duration": 0.003278,
     "end_time": "2025-01-19T17:33:55.751125",
     "exception": false,
     "start_time": "2025-01-19T17:33:55.747847",
     "status": "completed"
    },
    "tags": []
   },
   "source": [
    "\n",
    "**Question 1:** How do salaries vary by job title (e.g., data scientist, ML engineer, data analyst)?\n",
    "\n",
    "**Question 2:** What is the distribution of salaries across different experience levels?"
   ]
  },
  {
   "cell_type": "markdown",
   "id": "89bdecaf",
   "metadata": {
    "papermill": {
     "duration": 0.003297,
     "end_time": "2025-01-19T17:33:55.758056",
     "exception": false,
     "start_time": "2025-01-19T17:33:55.754759",
     "status": "completed"
    },
    "tags": []
   },
   "source": []
  },
  {
   "cell_type": "code",
   "execution_count": 4,
   "id": "020b84d5",
   "metadata": {
    "execution": {
     "iopub.execute_input": "2025-01-19T17:33:55.766413Z",
     "iopub.status.busy": "2025-01-19T17:33:55.766078Z",
     "iopub.status.idle": "2025-01-19T17:33:56.905208Z",
     "shell.execute_reply": "2025-01-19T17:33:56.904117Z"
    },
    "papermill": {
     "duration": 1.1455,
     "end_time": "2025-01-19T17:33:56.907067",
     "exception": false,
     "start_time": "2025-01-19T17:33:55.761567",
     "status": "completed"
    },
    "tags": []
   },
   "outputs": [
    {
     "data": {
      "image/png": "[encoded data removed]",
      "text/plain": [
       "<Figure size 1200x600 with 1 Axes>"
      ]
     },
     "metadata": {},
     "output_type": "display_data"
    },
    {
     "data": {
      "image/png": "[encoded data removed]",
      "text/plain": [
       "<Figure size 1200x600 with 1 Axes>"
      ]
     },
     "metadata": {},
     "output_type": "display_data"
    }
   ],
   "source": [
    "plt.figure(figsize=(12, 6))\n",
    "\n",
    "sns.boxplot(data=salary_data, x='job_category', y='salary_in_usd', hue='experience_category', palette=\"husl\")\n",
    "\n",
    "plt.xticks(rotation=45)\n",
    "plt.title(\"Salaries by Job Category and Experience Level\")\n",
    "plt.xlabel(\"Job Category\")\n",
    "plt.ylabel(\"Salary\")\n",
    "plt.legend(title=\"Experience Level\")\n",
    "plt.show()\n",
    "\n",
    "plt.figure(figsize=(12, 6))\n",
    "\n",
    "sns.barplot(data=salary_data, x='job_category', y='salary_in_usd', hue='experience_category', palette=\"husl\")\n",
    "\n",
    "plt.xticks(rotation=45)\n",
    "plt.title(\"Salaries by Job Category and Experience Level\")\n",
    "plt.xlabel(\"Job Category\")\n",
    "plt.ylabel(\"Salary\")\n",
    "plt.legend(title=\"Experience Level\")\n",
    "plt.show()"
   ]
  },
  {
   "cell_type": "markdown",
   "id": "3964375c",
   "metadata": {
    "papermill": {
     "duration": 0.005612,
     "end_time": "2025-01-19T17:33:56.918823",
     "exception": false,
     "start_time": "2025-01-19T17:33:56.913211",
     "status": "completed"
    },
    "tags": []
   },
   "source": []
  },
  {
   "cell_type": "markdown",
   "id": "0d20957e",
   "metadata": {
    "papermill": {
     "duration": 0.005483,
     "end_time": "2025-01-19T17:33:56.930133",
     "exception": false,
     "start_time": "2025-01-19T17:33:56.924650",
     "status": "completed"
    },
    "tags": []
   },
   "source": [
    "**Question 4:** What is the correlation between remote ratio and salary?"
   ]
  },
  {
   "cell_type": "markdown",
   "id": "41442612",
   "metadata": {
    "execution": {
     "iopub.execute_input": "2025-01-19T17:25:36.254262Z",
     "iopub.status.busy": "2025-01-19T17:25:36.253892Z",
     "iopub.status.idle": "2025-01-19T17:25:36.465275Z",
     "shell.execute_reply": "2025-01-19T17:25:36.463989Z",
     "shell.execute_reply.started": "2025-01-19T17:25:36.254210Z"
    },
    "papermill": {
     "duration": 0.006164,
     "end_time": "2025-01-19T17:33:56.942294",
     "exception": false,
     "start_time": "2025-01-19T17:33:56.936130",
     "status": "completed"
    },
    "tags": []
   },
   "source": [
    "sns.violinplot(data=salary_data, x='remote_ratio', y='salary_in_usd', palette=\"husl\" )\n",
    "plt.title(\"Salary Distribution by Remote Ratio\")\n",
    "plt.xlabel(\"Remote Ratio (%)\")\n",
    "plt.ylabel(\"Salary (USD)\")\n",
    "plt.show()\n"
   ]
  },
  {
   "cell_type": "code",
   "execution_count": null,
   "id": "6d543f3c",
   "metadata": {
    "papermill": {
     "duration": 0.005377,
     "end_time": "2025-01-19T17:33:56.953435",
     "exception": false,
     "start_time": "2025-01-19T17:33:56.948058",
     "status": "completed"
    },
    "tags": []
   },
   "outputs": [],
   "source": []
  }
 ],
 "metadata": {
  "kaggle": {
   "accelerator": "none",
   "dataSources": [
    {
     "datasetId": 3125926,
     "sourceId": 5392837,
     "sourceType": "datasetVersion"
    }
   ],
   "dockerImageVersionId": 30839,
   "isGpuEnabled": false,
   "isInternetEnabled": true,
   "language": "python",
   "sourceType": "notebook"
  },
  "kernelspec": {
   "display_name": "Python 3",
   "language": "python",
   "name": "python3"
  },
  "language_info": {
   "codemirror_mode": {
    "name": "ipython",
    "version": 3
   },
   "file_extension": ".py",
   "mimetype": "text/x-python",
   "name": "python",
   "nbconvert_exporter": "python",
   "pygments_lexer": "ipython3",
   "version": "3.10.12"
  },
  "papermill": {
   "default_parameters": {},
   "duration": 7.305276,
   "end_time": "2025-01-19T17:33:57.679801",
   "environment_variables": {},
   "exception": null,
   "input_path": "__notebook__.ipynb",
   "output_path": "__notebook__.ipynb",
   "parameters": {},
   "start_time": "2025-01-19T17:33:50.374525",
   "version": "2.6.0"
  }
 },
 "nbformat": 4,
 "nbformat_minor": 5
}
